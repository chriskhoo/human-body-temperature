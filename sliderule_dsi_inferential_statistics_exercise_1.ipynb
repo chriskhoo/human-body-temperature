{
 "cells": [
  {
   "cell_type": "markdown",
   "metadata": {},
   "source": [
    "# What is the True Normal Human Body Temperature? \n",
    "\n",
    "#### Background\n",
    "\n",
    "The mean normal body temperature was held to be 37$^{\\circ}$C or 98.6$^{\\circ}$F for more than 120 years since it was first conceptualized and reported by Carl Wunderlich in a famous 1868 book. But, is this value statistically correct?"
   ]
  },
  {
   "cell_type": "markdown",
   "metadata": {},
   "source": [
    "<h3>Exercises</h3>\n",
    "\n",
    "<p>In this exercise, you will analyze a dataset of human body temperatures and employ the concepts of hypothesis testing, confidence intervals, and statistical significance.</p>\n",
    "\n",
    "<p>Answer the following questions <b>in this notebook below and submit to your Github account</b>.</p> \n",
    "\n",
    "<ol>\n",
    "<li>  Is the distribution of body temperatures normal? \n",
    "    <ul>\n",
    "    <li> Although this is not a requirement for CLT to hold (read CLT carefully), it gives us some peace of mind that the population may also be normally distributed if we assume that this sample is representative of the population.\n",
    "    </ul>\n",
    "<li>  Is the sample size large? Are the observations independent?\n",
    "    <ul>\n",
    "    <li> Remember that this is a condition for the CLT, and hence the statistical tests we are using, to apply.\n",
    "    </ul>\n",
    "<li>  Is the true population mean really 98.6 degrees F?\n",
    "    <ul>\n",
    "    <li> Would you use a one-sample or two-sample test? Why?\n",
    "    <li> In this situation, is it appropriate to use the $t$ or $z$ statistic? \n",
    "    <li> Now try using the other test. How is the result be different? Why?\n",
    "    </ul>\n",
    "<li>  Draw a small sample of size 10 from the data and repeat both tests. \n",
    "    <ul>\n",
    "    <li> Which one is the correct one to use? \n",
    "    <li> What do you notice? What does this tell you about the difference in application of the $t$ and $z$ statistic?\n",
    "    </ul>\n",
    "<li>  At what temperature should we consider someone's temperature to be \"abnormal\"?\n",
    "    <ul>\n",
    "    <li> Start by computing the margin of error and confidence interval.\n",
    "    </ul>\n",
    "<li>  Is there a significant difference between males and females in normal temperature?\n",
    "    <ul>\n",
    "    <li> What test did you use and why?\n",
    "    <li> Write a story with your conclusion in the context of the original problem.\n",
    "    </ul>\n",
    "</ol>\n",
    "\n",
    "You can include written notes in notebook cells using Markdown: \n",
    "   - In the control panel at the top, choose Cell > Cell Type > Markdown\n",
    "   - Markdown syntax: http://nestacms.com/docs/creating-content/markdown-cheat-sheet\n",
    "\n",
    "#### Resources\n",
    "\n",
    "+ Information and data sources: http://www.amstat.org/publications/jse/datasets/normtemp.txt, http://www.amstat.org/publications/jse/jse_data_archive.htm\n",
    "+ Markdown syntax: http://nestacms.com/docs/creating-content/markdown-cheat-sheet\n",
    "\n",
    "****"
   ]
  },
  {
   "cell_type": "code",
   "execution_count": 1,
   "metadata": {
    "collapsed": true
   },
   "outputs": [],
   "source": [
    "import pandas as pd\n",
    "import numpy as np\n",
    "import matplotlib.pyplot as plt\n",
    "import scipy.stats as stats\n",
    "import seaborn as sns\n",
    "\n",
    "df = pd.read_csv('data/human_body_temperature.csv')"
   ]
  },
  {
   "cell_type": "markdown",
   "metadata": {},
   "source": [
    "## 1. Is the distribution of body temperatures normal?"
   ]
  },
  {
   "cell_type": "code",
   "execution_count": 2,
   "metadata": {
    "collapsed": true
   },
   "outputs": [],
   "source": [
    "# Define ecdf function\n",
    "def ecdf(data):\n",
    "      \"\"\"Compute ECDF for a one-dimensional array of measurements.\"\"\"\n",
    "\n",
    "      # Number of data points: n\n",
    "      n = len(data)\n",
    "\n",
    "      # x-data for the ECDF: x\n",
    "      x = np.sort( data )\n",
    "\n",
    "      # y-data for the ECDF: y\n",
    "      y = np.arange(1, n+1) / n\n",
    "\n",
    "      return x, y"
   ]
  },
  {
   "cell_type": "code",
   "execution_count": 3,
   "metadata": {},
   "outputs": [
    {
     "data": {
      "image/png": "[encoded data removed]",
      "text/plain": [
       "<matplotlib.figure.Figure at 0x11077a828>"
      ]
     },
     "metadata": {},
     "output_type": "display_data"
    }
   ],
   "source": [
    "# Compute mean and standard deviation: mu, sigma\n",
    "temperatures = df['temperature']\n",
    "mu = np.mean(temperatures)\n",
    "sigma = np.std(temperatures)\n",
    "    \n",
    "# Sample out of a normal distribution with this mu and sigma: samples\n",
    "samples = np.random.normal(mu, sigma, size=10000)\n",
    "\n",
    "# Get the CDF of the samples and of the data\n",
    "x_theor, y_theor = ecdf(samples)\n",
    "x, y = ecdf(temperatures)\n",
    "\n",
    "# Plot the CDFs and show the plot\n",
    "_ = plt.plot(x_theor, y_theor)\n",
    "_ = plt.plot(x, y, marker='.', linestyle='none')\n",
    "plt.margins(0.02)\n",
    "_ = plt.xlabel('Temperature (F)')\n",
    "_ = plt.ylabel('CDF')\n",
    "plt.show()"
   ]
  },
  {
   "cell_type": "markdown",
   "metadata": {},
   "source": [
    "The plot visually suggests that temperature is normally distributed."
   ]
  },
  {
   "cell_type": "code",
   "execution_count": 4,
   "metadata": {},
   "outputs": [
    {
     "name": "stdout",
     "output_type": "stream",
     "text": [
      "Null hypothesis: the body temperature is normally distributed\n",
      "Chi Squared =  2.70380143332\n",
      "p_value = 0.258748\n",
      "The null hypothesis cannot be rejected\n"
     ]
    }
   ],
   "source": [
    "# Normal test for temperature distribution\n",
    "print('Null hypothesis: the body temperature is normally distributed')\n",
    "k2 , p = stats.normaltest(x)\n",
    "alpha = 1e-3\n",
    "print('Chi Squared = ', k2)\n",
    "print(\"p_value = {:g}\".format(p))\n",
    "if p < alpha:\n",
    "    print(\"The null hypothesis can be rejected\")\n",
    "else:\n",
    "    print(\"The null hypothesis cannot be rejected\")"
   ]
  },
  {
   "cell_type": "markdown",
   "metadata": {},
   "source": [
    "## 2. Is the sample size large? Are the observations independent?"
   ]
  },
  {
   "cell_type": "code",
   "execution_count": 5,
   "metadata": {},
   "outputs": [
    {
     "name": "stdout",
     "output_type": "stream",
     "text": [
      "The length of the sample is:  130\n",
      "The sample size is sufficiently large for CLT to hold\n",
      "----------------------------------------------\n"
     ]
    },
    {
     "data": {
      "image/png": "[encoded data removed]",
      "text/plain": [
       "<matplotlib.figure.Figure at 0x113829588>"
      ]
     },
     "metadata": {},
     "output_type": "display_data"
    },
    {
     "data": {
      "image/png": "[encoded data removed]",
      "text/plain": [
       "<matplotlib.figure.Figure at 0x1138677f0>"
      ]
     },
     "metadata": {},
     "output_type": "display_data"
    },
    {
     "data": {
      "image/png": "[encoded data removed]",
      "text/plain": [
       "<matplotlib.figure.Figure at 0x113a4f780>"
      ]
     },
     "metadata": {},
     "output_type": "display_data"
    },
    {
     "name": "stdout",
     "output_type": "stream",
     "text": [
      "\n",
      "The plots visually suggest that the observations are independent.\n",
      "----------------------------------------------\n",
      "The correlation between temperature and heart rate is low ( 0.253656402721 ) --> observations appear to be independent\n"
     ]
    }
   ],
   "source": [
    "print('The length of the sample is: ', len(df))\n",
    "if len(df) >= 30:\n",
    "    print('The sample size is sufficiently large for CLT to hold')\n",
    "else:\n",
    "    print('The sample size is not sufficiently large for CLT to hold')\n",
    "\n",
    "print('----------------------------------------------')\n",
    "\n",
    "# Create swarmplots of gender and temperature\n",
    "_ = sns.swarmplot(x='gender' ,y='temperature', data= df)\n",
    "\n",
    "# Label the axes\n",
    "_ = plt.title('Swarmplots of temperature by gender')\n",
    "_ = plt.xlabel('Gender')\n",
    "_ = plt.ylabel('Temperature')\n",
    "\n",
    "plt.show()\n",
    "\n",
    "# Create swarmplots of gender and temperature\n",
    "_ = sns.swarmplot(x='gender' ,y='heart_rate', data= df)\n",
    "\n",
    "# Label the axes\n",
    "_ = plt.title('Swarmplots of heart rate by gender')\n",
    "_ = plt.xlabel('Gender')\n",
    "_ = plt.ylabel('Heart rate')\n",
    "\n",
    "plt.show()\n",
    "\n",
    "# Create scatter plot of temperature and heart rate\n",
    "_ = plt.plot(df['temperature'] ,df['heart_rate'], marker='.', linestyle='none')\n",
    "\n",
    "# Label the axes\n",
    "_ = plt.title('Scatter plot of temperature and heart rate')\n",
    "_ = plt.xlabel('Temperature')\n",
    "_ = plt.ylabel('Heart rate')\n",
    "\n",
    "plt.show()\n",
    "\n",
    "print('')\n",
    "print('The plots visually suggest that the observations are independent.')\n",
    "print('----------------------------------------------')\n",
    "pearson_corr_mat = np.corrcoef(df['temperature'] ,df['heart_rate'])\n",
    "print('The correlation between temperature and heart rate is low (', pearson_corr_mat[0,1] ,') --> observations appear to be independent')"
   ]
  },
  {
   "cell_type": "markdown",
   "metadata": {},
   "source": [
    "## 3. Is the true population mean really 98.6 degrees F?"
   ]
  },
  {
   "cell_type": "markdown",
   "metadata": {},
   "source": [
    "This would use a one sample test since there is 1 sample of temperature in the df, the mean 98.6 ∘ F from the study (no 2nd sample of data). The test statistic used will be the Z statistic since the distribution was found to be normal and the sample size is large. "
   ]
  },
  {
   "cell_type": "code",
   "execution_count": 6,
   "metadata": {},
   "outputs": [
    {
     "name": "stdout",
     "output_type": "stream",
     "text": [
      "The null hypothesis is that the true population mean is really 98.6 F\n",
      "The sample mean is  98.2492307692 and the sample standard deviation is 0.730357778905\n",
      "A temperature of 98.6 has a Z statistic of  5.47592520208 , the normal distribution probability of such an extreme value is 0.0000\n",
      "A temperature of 98.6 has a T statistic of  5.47592520208 , a t distribution confidence of 0.0005 for 100 degrees of freedom is a t score of 3.390\n",
      "It is unlikely that the true population mean of the sample provided is 98.6 F.\n"
     ]
    }
   ],
   "source": [
    "print('The null hypothesis is that the true population mean is really 98.6 F')\n",
    "\n",
    "# Calculate the mean and standard deviation \n",
    "mu = np.mean(temperatures)\n",
    "sigma = np.std(temperatures)\n",
    "print('The sample mean is ',mu ,'and the sample standard deviation is', sigma)\n",
    "\n",
    "# calculate statistic\n",
    "z_t_statistic = (98.6- mu)/ (sigma / (len (temperatures)**0.5) )\n",
    "\n",
    "# read table and draw conclusion\n",
    "print('A temperature of 98.6 has a Z statistic of ',z_t_statistic, ', the normal distribution probability of such an extreme value is 0.0000' ) \n",
    "print('A temperature of 98.6 has a T statistic of ',z_t_statistic, ', a t distribution confidence of 0.0005 for 100 degrees of freedom is a t score of 3.390',  )\n",
    "\n",
    "print('It is unlikely that the true population mean of the sample provided is 98.6 F.')"
   ]
  },
  {
   "cell_type": "code",
   "execution_count": 7,
   "metadata": {},
   "outputs": [
    {
     "name": "stdout",
     "output_type": "stream",
     "text": [
      "The 95% confidence interval is  [ 98.12459615  98.37540385]\n",
      "p-val = 0.0\n"
     ]
    }
   ],
   "source": [
    "# Test using bootstrap replicates  \n",
    "# Initialize bootstrap replicates: bs_replicates\n",
    "bs_replicates = np.empty(10000)\n",
    "\n",
    "for i in range(10000):\n",
    "  # Generate bootstrap sample\n",
    "  bs_sample = np.random.choice(temperatures, size=len(temperatures))\n",
    "  # Compute replicate\n",
    "  bs_replicates[i] = np.mean(bs_sample)\n",
    "\n",
    "# Compute and print 95% confidence interval and the p-value: p\n",
    "interval = np.percentile(bs_replicates, [2.5, 97.5])\n",
    "print('The 95% confidence interval is ', interval)\n",
    "\n",
    "p = np.sum(bs_replicates >= 98.6) / len(bs_replicates)\n",
    "print('p-val =', p)"
   ]
  },
  {
   "cell_type": "markdown",
   "metadata": {},
   "source": [
    "It is unlikely that the true population mean of the sample provided is 98.6 F. "
   ]
  },
  {
   "cell_type": "markdown",
   "metadata": {},
   "source": [
    "## 4. Draw a small sample of size 10 from the data and repeat both tests."
   ]
  },
  {
   "cell_type": "code",
   "execution_count": 8,
   "metadata": {},
   "outputs": [
    {
     "name": "stdout",
     "output_type": "stream",
     "text": [
      "A temperature of 98.6 has a Z statistic of  3.26 , the normal distribution probability of such an extreme value is ~0.0006\n",
      "A temperature of 98.6 has a T statistic of  3.26 , a t distribution for 9 degrees of freedom has a t score of 3.250 for confidence of 0.005\n",
      "It is unlikely that the true population mean of the sample provided is 98.6 F.\n"
     ]
    }
   ],
   "source": [
    "# seed and draw sample\n",
    "np.random.seed(42)\n",
    "bs_sample_10 = np.random.choice(temperatures, size=10)\n",
    "\n",
    "# calculate statistic\n",
    "z_t_statistic_10 = (98.6- np.mean(bs_sample_10))/ (np.std(bs_sample_10) / (10**0.5) )\n",
    "\n",
    "# read table and draw conclusion\n",
    "print('A temperature of 98.6 has a Z statistic of ',round(z_t_statistic_10,2), ', the normal distribution probability of such an extreme value is ~0.0006' ) \n",
    "print('A temperature of 98.6 has a T statistic of ',round(z_t_statistic_10,2), ', a t distribution for 9 degrees of freedom has a t score of 3.250 for confidence of 0.005',  )\n",
    "\n",
    "print('It is unlikely that the true population mean of the sample provided is 98.6 F.')"
   ]
  },
  {
   "cell_type": "markdown",
   "metadata": {},
   "source": [
    "Both samples (of size 100 and of 10) suggest that the probability of the true population mean being 98.6 degrees F is low (regardless of statistic used. \n",
    "For large sample sizes, the normal distribution should be used and hence the Z statistic. For smaller sample sizes, the t distribution should be used and hence the T statistic. "
   ]
  },
  {
   "cell_type": "markdown",
   "metadata": {},
   "source": [
    "## 5. At what temperature should we consider someone's temperature to be \"abnormal\"?"
   ]
  },
  {
   "cell_type": "code",
   "execution_count": 9,
   "metadata": {},
   "outputs": [
    {
     "name": "stdout",
     "output_type": "stream",
     "text": [
      "95% confidence interval has a z-score of 1.65 this translates to a max temperature of  98.35 F\n",
      "99% confidence interval has a z-score of 2.33 this translates to a max temperature of  98.4 F\n",
      "99.5% confidence interval has a z-score of 2.58 this translates to a max temperature of  98.41 F\n"
     ]
    }
   ],
   "source": [
    "# a one tail confidence interval of the normal distribution\n",
    "print('95% confidence interval has a z-score of 1.65 this translates to a max temperature of ', round(1.65 * (sigma / (len (temperatures)**0.5) ) + mu, 2),'F')\n",
    "print('99% confidence interval has a z-score of 2.33 this translates to a max temperature of ', round(2.33 * (sigma / (len (temperatures)**0.5) ) + mu, 2),'F')\n",
    "print('99.5% confidence interval has a z-score of 2.58 this translates to a max temperature of ', round(2.58 * (sigma / (len (temperatures)**0.5) ) + mu, 2),'F')"
   ]
  },
  {
   "cell_type": "code",
   "execution_count": 10,
   "metadata": {},
   "outputs": [
    {
     "name": "stdout",
     "output_type": "stream",
     "text": [
      "95% confidence interval has a z-score of 1.65 this translates to a max temperature of  99.45 F\n",
      "99% confidence interval has a z-score of 2.33 this translates to a max temperature of  99.95 F\n",
      "99.5% confidence interval has a z-score of 2.58 this translates to a max temperature of  100.13 F\n"
     ]
    }
   ],
   "source": [
    "# a one tail confidence interval of the normal distribution\n",
    "print('95% confidence interval has a z-score of 1.65 this translates to a max temperature of ', round(1.65 * (sigma ) + mu, 2),'F')\n",
    "print('99% confidence interval has a z-score of 2.33 this translates to a max temperature of ', round(2.33 * (sigma ) + mu, 2),'F')\n",
    "print('99.5% confidence interval has a z-score of 2.58 this translates to a max temperature of ', round(2.58 * (sigma ) + mu, 2),'F')"
   ]
  },
  {
   "cell_type": "markdown",
   "metadata": {},
   "source": [
    "if we assume abnormal can mean both low and high temperatures then we should do a two tail confident interval"
   ]
  },
  {
   "cell_type": "code",
   "execution_count": 11,
   "metadata": {},
   "outputs": [
    {
     "name": "stdout",
     "output_type": "stream",
     "text": [
      "95% confidence interval has a z-score of ±1.96 this translates to a temperature range of  98.12  to  98.37 F\n",
      "99% confidence interval has a z-score of ±2.58 this translates to a max temperature of  98.08  to  98.41 F\n",
      "99.5% confidence interval has a z-score of ±2.81 this translates to a max temperature of  98.07  to  98.43 F\n"
     ]
    }
   ],
   "source": [
    "# a two tail confidence interval of the normal distribution\n",
    "print('95% confidence interval has a z-score of ±1.96 this translates to a temperature range of ', round( mu - 1.96 * (sigma / (len (temperatures)**0.5)) , 2), ' to ', round(1.96 * (sigma / (len (temperatures)**0.5)) + mu, 2),'F')\n",
    "print('99% confidence interval has a z-score of ±2.58 this translates to a max temperature of ', round(mu - 2.58 * (sigma / (len (temperatures)**0.5)), 2), ' to ', round(2.58 * (sigma / (len (temperatures)**0.5)) + mu, 2),'F')\n",
    "print('99.5% confidence interval has a z-score of ±2.81 this translates to a max temperature of ', round(mu - 2.81 * (sigma / (len (temperatures)**0.5)), 2), ' to ', round(2.81 * (sigma / (len (temperatures)**0.5)) + mu, 2),'F')"
   ]
  },
  {
   "cell_type": "code",
   "execution_count": 12,
   "metadata": {},
   "outputs": [
    {
     "name": "stdout",
     "output_type": "stream",
     "text": [
      "95% confidence interval has a z-score of ±1.96 this translates to a temperature range of  96.82  to  99.68 F\n",
      "99% confidence interval has a z-score of ±2.58 this translates to a max temperature of  96.36  to  100.13 F\n",
      "99.5% confidence interval has a z-score of ±2.81 this translates to a max temperature of  96.2  to  100.3 F\n"
     ]
    }
   ],
   "source": [
    "# a two tail confidence interval of the normal distribution\n",
    "print('95% confidence interval has a z-score of ±1.96 this translates to a temperature range of ', round( mu - 1.96 * (sigma ) , 2), ' to ', round(1.96 * (sigma ) + mu, 2),'F')\n",
    "print('99% confidence interval has a z-score of ±2.58 this translates to a max temperature of ', round(mu - 2.58 * (sigma ), 2), ' to ', round(2.58 * (sigma ) + mu, 2),'F')\n",
    "print('99.5% confidence interval has a z-score of ±2.81 this translates to a max temperature of ', round(mu - 2.81 * (sigma ), 2), ' to ', round(2.81 * (sigma ) + mu, 2),'F')"
   ]
  },
  {
   "cell_type": "markdown",
   "metadata": {},
   "source": [
    "## 6. Is there a significant difference between males and females in normal temperature?"
   ]
  },
  {
   "cell_type": "code",
   "execution_count": 13,
   "metadata": {
    "collapsed": true
   },
   "outputs": [],
   "source": [
    "# separate datasets\n",
    "males = df.temperature[df['gender']=='M']\n",
    "females = df.temperature[df['gender']=='F']"
   ]
  },
  {
   "cell_type": "code",
   "execution_count": 14,
   "metadata": {},
   "outputs": [
    {
     "data": {
      "image/png": "[encoded data removed]",
      "text/plain": [
       "<matplotlib.figure.Figure at 0x113b0d0f0>"
      ]
     },
     "metadata": {},
     "output_type": "display_data"
    },
    {
     "name": "stdout",
     "output_type": "stream",
     "text": [
      "Females appear to have a higher body temperature than males\n"
     ]
    }
   ],
   "source": [
    "# get ecdf's from male and female samples\n",
    "x_m, y_m = ecdf(males)\n",
    "x_f, y_f = ecdf(females)\n",
    "\n",
    "# using a null hypothesis that both male and females have the same temperatures\n",
    "\n",
    "for i in range(20):\n",
    "    # Generate bootstrap sample\n",
    "    bs_sample = np.random.choice(temperatures, size=len(males))\n",
    "    x_theor, y_theor = ecdf(bs_sample)\n",
    "    # plot theoretical values of a sample where males and females have the same temperature distribution\n",
    "    _ = plt.plot(x_theor, y_theor, marker='.', linestyle='none', color='grey', alpha=0.1)\n",
    "    \n",
    "# plot actual ecdfs\n",
    "_ = plt.plot(x_m, y_m, marker='.', linestyle='none', color='blue')\n",
    "_ = plt.plot(x_f, y_f, marker='.', linestyle='none', color='red')\n",
    "plt.margins(0.02)\n",
    "_ = plt.xlabel('Temperature (F)')\n",
    "_ = plt.ylabel('CDF')\n",
    "plt.show()\n",
    "\n",
    "print('Females appear to have a higher body temperature than males')\n",
    "    "
   ]
  },
  {
   "cell_type": "code",
   "execution_count": 15,
   "metadata": {},
   "outputs": [
    {
     "name": "stdout",
     "output_type": "stream",
     "text": [
      "p-value = 0.0112\n",
      "The low p value suggests that females have a statistically significantly higher body temperature than males\n"
     ]
    }
   ],
   "source": [
    "## permutation test looking at the difference in mean of the two datasets \n",
    "def permutation_sample(data1, data2):\n",
    "    \"\"\"Generate a permutation sample from two data sets.\"\"\"\n",
    "    # Concatenate the data sets: data\n",
    "    data = np.concatenate((data1, data2))\n",
    "\n",
    "    # Permute the concatenated array: permuted_data\n",
    "    permuted_data = np.random.permutation(data)\n",
    "\n",
    "    # Split the permuted array into two: perm_sample_1, perm_sample_2\n",
    "    perm_sample_1 = permuted_data[:len(data1)]\n",
    "    perm_sample_2 = permuted_data[len(data1):]\n",
    "\n",
    "    return perm_sample_1, perm_sample_2\n",
    "\n",
    "def draw_perm_reps(data_1, data_2, func, size=1):\n",
    "    \"\"\"Generate multiple permutation replicates.\"\"\"\n",
    "    # Initialize array of replicates: perm_replicates\n",
    "    perm_replicates = np.empty(size)\n",
    "\n",
    "    for i in range(size):\n",
    "        # Generate permutation sample\n",
    "        perm_sample_1, perm_sample_2 = permutation_sample(data_1, data_2)\n",
    "\n",
    "        # Compute the test statistic\n",
    "        perm_replicates[i] = func(perm_sample_1, perm_sample_2)\n",
    "\n",
    "    return perm_replicates\n",
    "\n",
    "def diff_of_means(data_1, data_2):\n",
    "    \"\"\"Difference in means of two arrays.\"\"\"\n",
    "    # The difference of means of data_1, data_2: diff\n",
    "    diff = np.mean(data_1) - np.mean(data_2)\n",
    "    return diff\n",
    "\n",
    "# Compute difference of mean temperature from both genders\n",
    "empirical_diff_means = diff_of_means(females, males)\n",
    "\n",
    "# Draw 10,000 permutation replicates: perm_replicates\n",
    "perm_replicates = draw_perm_reps(females, males, \n",
    "                               diff_of_means, size=10000)\n",
    "\n",
    "# Compute p-value: p\n",
    "p = np.sum(perm_replicates >= empirical_diff_means) / len(perm_replicates)\n",
    "\n",
    "# Print the result\n",
    "print('p-value =', p)\n",
    "print('The low p value suggests that females have a statistically significantly higher body temperature than males')"
   ]
  },
  {
   "cell_type": "code",
   "execution_count": 16,
   "metadata": {},
   "outputs": [
    {
     "name": "stdout",
     "output_type": "stream",
     "text": [
      "98.3938461538\n"
     ]
    }
   ],
   "source": [
    "print( np.mean(females) )"
   ]
  },
  {
   "cell_type": "code",
   "execution_count": 17,
   "metadata": {},
   "outputs": [
    {
     "name": "stdout",
     "output_type": "stream",
     "text": [
      "98.1046153846\n"
     ]
    }
   ],
   "source": [
    "print( np.mean(males) )"
   ]
  },
  {
   "cell_type": "code",
   "execution_count": 19,
   "metadata": {},
   "outputs": [
    {
     "name": "stdout",
     "output_type": "stream",
     "text": [
      "98.2492307692\n"
     ]
    }
   ],
   "source": [
    "print( np.mean(temperatures) )"
   ]
  },
  {
   "cell_type": "code",
   "execution_count": null,
   "metadata": {
    "collapsed": true
   },
   "outputs": [],
   "source": []
  }
 ],
 "metadata": {
  "kernelspec": {
   "display_name": "Python 3",
   "language": "python",
   "name": "python3"
  },
  "language_info": {
   "codemirror_mode": {
    "name": "ipython",
    "version": 3
   },
   "file_extension": ".py",
   "mimetype": "text/x-python",
   "name": "python",
   "nbconvert_exporter": "python",
   "pygments_lexer": "ipython3",
   "version": "3.6.2"
  }
 },
 "nbformat": 4,
 "nbformat_minor": 1
}
